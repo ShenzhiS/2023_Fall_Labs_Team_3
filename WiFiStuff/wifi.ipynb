{
 "cells": [
  {
   "cell_type": "code",
   "execution_count": 1,
   "metadata": {},
   "outputs": [],
   "source": [
    "import socket\n",
    "import numpy as np\n",
    "from matplotlib import pyplot as plt\n",
    "from matplotlib import patches\n",
    "from scipy import signal\n",
    "import pyaudio\n",
    "import wave\n",
    "\n",
    "import cv2\n",
    "\n",
    "from pocketsphinx import LiveSpeech\n",
    "import speech_recognition as sr  "
   ]
  },
  {
   "cell_type": "code",
   "execution_count": 49,
   "metadata": {},
   "outputs": [
    {
     "name": "stdout",
     "output_type": "stream",
     "text": [
      "UDP target IP: 192.168.119.251\n",
      "UDP target port: 2390\n",
      "message: b's'\n",
      "Say something!\n",
      "speak\n",
      "sent\n"
     ]
    }
   ],
   "source": [
    "UDP_IP = \"192.168.119.251\"\n",
    "UDP_PORT = 2390\n",
    "MESSAGE = b's'\n",
    "\n",
    "print(\"UDP target IP: %s\" % UDP_IP)\n",
    "print(\"UDP target port: %s\" % UDP_PORT)\n",
    "print(\"message: %s\" % MESSAGE)\n",
    "\n",
    "sock = socket.socket(socket.AF_INET, # Internet\n",
    "                     socket.SOCK_DGRAM) # UDP\n",
    "\n",
    "# sock.sendto(MESSAGE, (UDP_IP, UDP_PORT))\n",
    "\n",
    "r = sr.Recognizer() \n",
    "with sr.Microphone() as source:  \n",
    "  r.adjust_for_ambient_noise(source, duration=0.2) \n",
    "  print(\"Say something!\")  \n",
    "  audio = r.listen(source)  \n",
    "\n",
    "try:  \n",
    "  text = r.recognize_google(audio) \n",
    "except sr.UnknownValueError:  \n",
    "  print(\"Sphinx could not understand audio\")  \n",
    "except sr.RequestError as e:  \n",
    "  print(\"Sphinx error; {0}\".format(e))  \n",
    "\n",
    "print(text)\n",
    "\n",
    "if \"speak\" in text:\n",
    "  sock.sendto(MESSAGE, (UDP_IP, UDP_PORT))\n",
    "  print(\"sent\")\n",
    "\n",
    "# data, addr = sock.recvfrom(102) # buffer size is 1024 bytes\n",
    "# print(\"received message: %s\" % data)"
   ]
  },
  {
   "cell_type": "code",
   "execution_count": 22,
   "metadata": {},
   "outputs": [],
   "source": [
    "MESSAGE = b's'"
   ]
  },
  {
   "cell_type": "code",
   "execution_count": 50,
   "metadata": {},
   "outputs": [
    {
     "data": {
      "text/plain": [
       "1"
      ]
     },
     "execution_count": 50,
     "metadata": {},
     "output_type": "execute_result"
    }
   ],
   "source": [
    "sock.sendto(MESSAGE, (UDP_IP, UDP_PORT))"
   ]
  },
  {
   "cell_type": "code",
   "execution_count": null,
   "metadata": {},
   "outputs": [],
   "source": []
  }
 ],
 "metadata": {
  "kernelspec": {
   "display_name": "base",
   "language": "python",
   "name": "python3"
  },
  "language_info": {
   "codemirror_mode": {
    "name": "ipython",
    "version": 3
   },
   "file_extension": ".py",
   "mimetype": "text/x-python",
   "name": "python",
   "nbconvert_exporter": "python",
   "pygments_lexer": "ipython3",
   "version": "3.11.6"
  }
 },
 "nbformat": 4,
 "nbformat_minor": 2
}
