{
 "cells": [
  {
   "cell_type": "code",
   "execution_count": 1,
   "metadata": {},
   "outputs": [],
   "source": [
    "import socket"
   ]
  },
  {
   "cell_type": "code",
   "execution_count": 2,
   "metadata": {},
   "outputs": [
    {
     "name": "stdout",
     "output_type": "stream",
     "text": [
      "UDP target IP: 192.168.13.3\n",
      "UDP target port: 2390\n",
      "message: b'Hello, World!'\n",
      "received message: b'acknowledged'\n"
     ]
    }
   ],
   "source": [
    "UDP_IP = \"192.168.13.3\"\n",
    "UDP_PORT = 2390\n",
    "MESSAGE = b\"Hello, World!\"\n",
    "\n",
    "print(\"UDP target IP: %s\" % UDP_IP)\n",
    "print(\"UDP target port: %s\" % UDP_PORT)\n",
    "print(\"message: %s\" % MESSAGE)\n",
    "\n",
    "sock = socket.socket(socket.AF_INET, # Internet\n",
    "                     socket.SOCK_DGRAM) # UDP\n",
    "sock.sendto(MESSAGE, (UDP_IP, UDP_PORT))\n",
    "\n",
    "while True:\n",
    "    data, addr = sock.recvfrom(1024) # buffer size is 1024 bytes\n",
    "    print(\"received message: %s\" % data)"
   ]
  },
  {
   "cell_type": "code",
   "execution_count": null,
   "metadata": {},
   "outputs": [],
   "source": []
  }
 ],
 "metadata": {
  "kernelspec": {
   "display_name": "base",
   "language": "python",
   "name": "python3"
  },
  "language_info": {
   "codemirror_mode": {
    "name": "ipython",
    "version": 3
   },
   "file_extension": ".py",
   "mimetype": "text/x-python",
   "name": "python",
   "nbconvert_exporter": "python",
   "pygments_lexer": "ipython3",
   "version": "3.7.6"
  }
 },
 "nbformat": 4,
 "nbformat_minor": 2
}
